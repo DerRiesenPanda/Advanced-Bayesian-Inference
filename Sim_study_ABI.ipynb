{
  "nbformat": 4,
  "nbformat_minor": 0,
  "metadata": {
    "colab": {
      "provenance": []
    },
    "kernelspec": {
      "name": "python3",
      "display_name": "Python 3"
    },
    "language_info": {
      "name": "python"
    }
  },
  "cells": [
    {
      "cell_type": "code",
      "execution_count": 1,
      "metadata": {
        "colab": {
          "base_uri": "https://localhost:8080/"
        },
        "id": "KJGNxkJWMGaW",
        "outputId": "7a20e4cd-0598-4767-b9a5-f9715fff7cbb"
      },
      "outputs": [
        {
          "output_type": "stream",
          "name": "stdout",
          "text": [
            "Mounted at mnt\n"
          ]
        }
      ],
      "source": [
        "from google.colab import drive\n",
        "drive.mount(\"mnt\")"
      ]
    },
    {
      "cell_type": "code",
      "source": [
        "%cd \"mnt/My Drive/Colab Notebooks\""
      ],
      "metadata": {
        "colab": {
          "base_uri": "https://localhost:8080/"
        },
        "id": "l6YCBi73MIfP",
        "outputId": "0e2fdfd9-dc17-4305-9bbe-167f7e3a1597"
      },
      "execution_count": 2,
      "outputs": [
        {
          "output_type": "stream",
          "name": "stdout",
          "text": [
            "/content/mnt/My Drive/Colab Notebooks\n"
          ]
        }
      ]
    },
    {
      "cell_type": "code",
      "source": [
        "!pip install -q import-ipynb"
      ],
      "metadata": {
        "id": "htcHP85wPGV-",
        "collapsed": true,
        "colab": {
          "base_uri": "https://localhost:8080/"
        },
        "outputId": "a90ee181-47e0-4bd4-9039-c55ff072caf7"
      },
      "execution_count": 3,
      "outputs": [
        {
          "output_type": "stream",
          "name": "stdout",
          "text": [
            "\u001b[?25l   \u001b[90m━━━━━━━━━━━━━━━━━━━━━━━━━━━━━━━━━━━━━━━━\u001b[0m \u001b[32m0.0/1.6 MB\u001b[0m \u001b[31m?\u001b[0m eta \u001b[36m-:--:--\u001b[0m\r\u001b[2K   \u001b[91m━━━━━━━━━━━━━━\u001b[0m\u001b[90m╺\u001b[0m\u001b[90m━━━━━━━━━━━━━━━━━━━━━━━━━\u001b[0m \u001b[32m0.6/1.6 MB\u001b[0m \u001b[31m19.3 MB/s\u001b[0m eta \u001b[36m0:00:01\u001b[0m\r\u001b[2K   \u001b[91m━━━━━━━━━━━━━━━━━━━━━━━━━━━━━━━━━━━━━━━\u001b[0m\u001b[91m╸\u001b[0m \u001b[32m1.6/1.6 MB\u001b[0m \u001b[31m31.2 MB/s\u001b[0m eta \u001b[36m0:00:01\u001b[0m\r\u001b[2K   \u001b[90m━━━━━━━━━━━━━━━━━━━━━━━━━━━━━━━━━━━━━━━━\u001b[0m \u001b[32m1.6/1.6 MB\u001b[0m \u001b[31m20.1 MB/s\u001b[0m eta \u001b[36m0:00:00\u001b[0m\n",
            "\u001b[?25h"
          ]
        }
      ]
    },
    {
      "cell_type": "code",
      "source": [
        "!pip install -q liesel"
      ],
      "metadata": {
        "collapsed": true,
        "id": "vq4DABBFz-QN",
        "colab": {
          "base_uri": "https://localhost:8080/"
        },
        "outputId": "4bfc838a-2b8e-4568-a1b1-a52fff6f88f6"
      },
      "execution_count": 4,
      "outputs": [
        {
          "output_type": "stream",
          "name": "stdout",
          "text": [
            "\u001b[?25l   \u001b[90m━━━━━━━━━━━━━━━━━━━━━━━━━━━━━━━━━━━━━━━━\u001b[0m \u001b[32m0.0/121.2 kB\u001b[0m \u001b[31m?\u001b[0m eta \u001b[36m-:--:--\u001b[0m\r\u001b[2K   \u001b[91m━━━━━━━━━━━━━━━━━━━━━━━━━━━━━━━━━━━━━\u001b[0m\u001b[90m╺\u001b[0m\u001b[90m━━\u001b[0m \u001b[32m112.6/121.2 kB\u001b[0m \u001b[31m4.7 MB/s\u001b[0m eta \u001b[36m0:00:01\u001b[0m\r\u001b[2K   \u001b[90m━━━━━━━━━━━━━━━━━━━━━━━━━━━━━━━━━━━━━━━━\u001b[0m \u001b[32m121.2/121.2 kB\u001b[0m \u001b[31m2.7 MB/s\u001b[0m eta \u001b[36m0:00:00\u001b[0m\n",
            "\u001b[2K   \u001b[90m━━━━━━━━━━━━━━━━━━━━━━━━━━━━━━━━━━━━━━━━\u001b[0m \u001b[32m4.6/4.6 MB\u001b[0m \u001b[31m39.8 MB/s\u001b[0m eta \u001b[36m0:00:00\u001b[0m\n",
            "\u001b[2K   \u001b[90m━━━━━━━━━━━━━━━━━━━━━━━━━━━━━━━━━━━━━━━━\u001b[0m \u001b[32m119.4/119.4 kB\u001b[0m \u001b[31m6.2 MB/s\u001b[0m eta \u001b[36m0:00:00\u001b[0m\n",
            "\u001b[2K   \u001b[90m━━━━━━━━━━━━━━━━━━━━━━━━━━━━━━━━━━━━━━━━\u001b[0m \u001b[32m172.3/172.3 kB\u001b[0m \u001b[31m3.3 MB/s\u001b[0m eta \u001b[36m0:00:00\u001b[0m\n",
            "\u001b[?25h"
          ]
        }
      ]
    },
    {
      "cell_type": "code",
      "source": [
        "import import_ipynb\n",
        "import functions_2"
      ],
      "metadata": {
        "id": "G6V993_tzRqq"
      },
      "execution_count": 5,
      "outputs": []
    },
    {
      "cell_type": "code",
      "source": [
        "from functions_2 import generate_gaussian_data, create_model, test_sampling"
      ],
      "metadata": {
        "id": "o6ezWSet1LDG"
      },
      "execution_count": 6,
      "outputs": []
    },
    {
      "cell_type": "code",
      "source": [
        "import jax\n",
        "import jax.numpy as jnp\n",
        "import liesel.model as lsl\n",
        "import liesel.goose as gs\n",
        "import liesel.contrib.splines as splines\n",
        "import tensorflow_probability.substrates.jax as tfp\n",
        "tfd = tfp.distributions\n",
        "tfb = tfp.bijectors\n",
        "import numpy as np"
      ],
      "metadata": {
        "id": "rDOdhgZMpB5w"
      },
      "execution_count": 7,
      "outputs": []
    },
    {
      "cell_type": "code",
      "source": [
        "from google.colab import auth\n",
        "from googleapiclient.discovery import build\n",
        "from googleapiclient.errors import HttpError\n",
        "from googleapiclient.http import MediaFileUpload\n",
        "import pickle"
      ],
      "metadata": {
        "id": "AafX12VOJKtN"
      },
      "execution_count": 8,
      "outputs": []
    },
    {
      "cell_type": "code",
      "source": [
        "from liesel.contrib.splines import equidistant_knots, basis_matrix\n",
        "import tensorflow_probability.substrates.jax.bijectors as tfb\n",
        "from liesel.distributions.mvn_degen import MultivariateNormalDegenerate"
      ],
      "metadata": {
        "id": "UEhEAI_FpE62"
      },
      "execution_count": 9,
      "outputs": []
    },
    {
      "cell_type": "code",
      "source": [
        "auth.authenticate_user()"
      ],
      "metadata": {
        "id": "Ps1CWyA15kf7"
      },
      "execution_count": 10,
      "outputs": []
    },
    {
      "cell_type": "code",
      "source": [
        "num_sim = 1\n",
        "n = 5\n",
        "n_params = 20\n",
        "c_u = 0.75  # define measurement error covariance\n",
        "name = \"75\" # define name of study"
      ],
      "metadata": {
        "id": "ccXT7I8Bxe2Z"
      },
      "execution_count": 11,
      "outputs": []
    },
    {
      "cell_type": "code",
      "source": [
        "######################################################################## MODEL WITH X SAMPLING ####################################################################"
      ],
      "metadata": {
        "id": "j8hlT2TuRw09"
      },
      "execution_count": 12,
      "outputs": []
    },
    {
      "cell_type": "code",
      "source": [
        "%%capture\n",
        "results_of_model_x_sample = test_sampling(num_sim = num_sim, n = n, M = 3, c_u = c_u, n_knots = n_params, x_sampling = True, x_naive = False)"
      ],
      "metadata": {
        "id": "cbviTe47xMxb",
        "collapsed": true
      },
      "execution_count": null,
      "outputs": []
    },
    {
      "cell_type": "code",
      "source": [
        "with open(f'model_x_sample_data_{name}.pickle', 'wb') as handle:\n",
        "    pickle.dump(results_of_model_x_sample, handle, protocol=pickle.HIGHEST_PROTOCOL)\n",
        "\n",
        "#Authenticate and construct the Drive API client\n",
        "auth.authenticate_user()\n",
        "drive_service = build('drive', 'v3')\n",
        "\n",
        "file_metadata = {'name': f'model_x_sample_data_{name}.pickle'}\n",
        "media = MediaFileUpload(f'model_x_sample_data_{name}.pickle', mimetype='application/octet-stream')\n",
        "file = drive_service.files().create(body=file_metadata, media_body=media,\n",
        "                                    fields='id').execute()\n",
        "print(F'File ID: {file.get(\"id\")}')"
      ],
      "metadata": {
        "id": "svGREkgAGUIq",
        "colab": {
          "base_uri": "https://localhost:8080/"
        },
        "outputId": "5b8ae116-9251-40bb-e4f4-856441a2f4da"
      },
      "execution_count": 14,
      "outputs": [
        {
          "output_type": "stream",
          "name": "stdout",
          "text": [
            "File ID: 1tz_JV6bcHAj_yEaKIqGcmCJ4uXD_NKiv\n"
          ]
        }
      ]
    },
    {
      "cell_type": "code",
      "source": [
        "########################################################## MODEL TRUE #################################################################"
      ],
      "metadata": {
        "id": "dBVnM-72RouN"
      },
      "execution_count": 15,
      "outputs": []
    },
    {
      "cell_type": "code",
      "source": [
        "%%capture\n",
        "results_of_model_true = test_sampling(num_sim = num_sim, n = n, M = 3, c_u = c_u, n_knots = n_params, x_sampling = False, x_naive = False)"
      ],
      "metadata": {
        "id": "gxijP8vkKi6s",
        "collapsed": true
      },
      "execution_count": null,
      "outputs": []
    },
    {
      "cell_type": "code",
      "source": [
        "with open(f'model_x_sample_data_{name}_true.pickle', 'wb') as handle:\n",
        "    pickle.dump(results_of_model_true, handle, protocol=pickle.HIGHEST_PROTOCOL)\n",
        "\n",
        "#Authenticate and construct the Drive API client\n",
        "auth.authenticate_user()\n",
        "drive_service = build('drive', 'v3')\n",
        "\n",
        "file_metadata = {'name': f'model_x_sample_data_{name}_true.pickle'}\n",
        "media = MediaFileUpload(f'model_x_sample_data_{name}_true.pickle', mimetype='application/octet-stream')\n",
        "file = drive_service.files().create(body=file_metadata, media_body=media,\n",
        "                                    fields='id').execute()\n",
        "print(F'File ID: {file.get(\"id\")}')"
      ],
      "metadata": {
        "id": "InGWbP9HK6cj",
        "colab": {
          "base_uri": "https://localhost:8080/"
        },
        "outputId": "c0f983da-b02b-4f6c-e6a5-e053a57b2fed"
      },
      "execution_count": 17,
      "outputs": [
        {
          "output_type": "stream",
          "name": "stdout",
          "text": [
            "File ID: 1C2rQo2BhtRvI7ghVmVNOOq9EnLCfoBXo\n"
          ]
        }
      ]
    },
    {
      "cell_type": "code",
      "source": [
        "############################################## NAIVE MODEL #######################################################"
      ],
      "metadata": {
        "id": "eduxXOomRiXB"
      },
      "execution_count": 18,
      "outputs": []
    },
    {
      "cell_type": "code",
      "source": [
        "%%capture\n",
        "results_of_model_naive = test_sampling(num_sim = num_sim, n = n, M = 3, c_u = c_u, n_knots = n_params, x_sampling = False)"
      ],
      "metadata": {
        "id": "1A2E2Z5Ok4F5",
        "collapsed": true
      },
      "execution_count": null,
      "outputs": []
    },
    {
      "cell_type": "code",
      "source": [
        "with open(f'model_x_sample_data_{name}_naive.pickle', 'wb') as handle:\n",
        "    pickle.dump(results_of_model_naive, handle, protocol=pickle.HIGHEST_PROTOCOL)\n",
        "\n",
        "#Authenticate and construct the Drive API client\n",
        "auth.authenticate_user()\n",
        "drive_service = build('drive', 'v3')\n",
        "\n",
        "file_metadata = {'name': f'model_x_sample_data_{name}_naive.pickle'}\n",
        "media = MediaFileUpload(f'model_x_sample_data_{name}_naive.pickle', mimetype='application/octet-stream')\n",
        "file = drive_service.files().create(body=file_metadata, media_body=media,\n",
        "                                    fields='id').execute()\n",
        "print(F'File ID: {file.get(\"id\")}')"
      ],
      "metadata": {
        "id": "f0qv90sOZg0M",
        "colab": {
          "base_uri": "https://localhost:8080/"
        },
        "outputId": "e9b9429a-2482-4f80-9e11-49b3c0ec3639"
      },
      "execution_count": 20,
      "outputs": [
        {
          "output_type": "stream",
          "name": "stdout",
          "text": [
            "File ID: 1eFXTeMuZak9XwALIkYBMGbCs1ddtKQtu\n"
          ]
        }
      ]
    }
  ]
}