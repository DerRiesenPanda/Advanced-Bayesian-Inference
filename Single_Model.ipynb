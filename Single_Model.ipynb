{
  "nbformat": 4,
  "nbformat_minor": 0,
  "metadata": {
    "colab": {
      "provenance": []
    },
    "kernelspec": {
      "name": "python3",
      "display_name": "Python 3"
    },
    "language_info": {
      "name": "python"
    }
  },
  "cells": [
    {
      "cell_type": "code",
      "execution_count": null,
      "metadata": {
        "colab": {
          "base_uri": "https://localhost:8080/"
        },
        "id": "zGx2QApKAPtn",
        "outputId": "8ee1b2ae-6800-4cd4-f3e0-0fe5139fb995"
      },
      "outputs": [
        {
          "output_type": "stream",
          "name": "stdout",
          "text": [
            "Collecting liesel\n",
            "  Downloading liesel-0.3.3-py3-none-any.whl.metadata (3.6 kB)\n",
            "Requirement already satisfied: arviz>=0.15 in /usr/local/lib/python3.11/dist-packages (from liesel) (0.20.0)\n",
            "Collecting blackjax>=1.0 (from liesel)\n",
            "  Downloading blackjax-1.2.5-py3-none-any.whl.metadata (6.5 kB)\n",
            "Requirement already satisfied: deprecated>=1.2 in /usr/local/lib/python3.11/dist-packages (from liesel) (1.2.18)\n",
            "Collecting dill>=0.3 (from liesel)\n",
            "  Downloading dill-0.3.9-py3-none-any.whl.metadata (10 kB)\n",
            "Requirement already satisfied: jax>=0.5.0 in /usr/local/lib/python3.11/dist-packages (from liesel) (0.5.2)\n",
            "Requirement already satisfied: jaxlib>=0.5.0 in /usr/local/lib/python3.11/dist-packages (from liesel) (0.5.1)\n",
            "Requirement already satisfied: matplotlib>=3.5 in /usr/local/lib/python3.11/dist-packages (from liesel) (3.10.0)\n",
            "Requirement already satisfied: networkx>=2.6 in /usr/local/lib/python3.11/dist-packages (from liesel) (3.4.2)\n",
            "Requirement already satisfied: numpy!=1.24.0,<2.0,>=1.22 in /usr/local/lib/python3.11/dist-packages (from liesel) (1.26.4)\n",
            "Requirement already satisfied: pandas>=1.4 in /usr/local/lib/python3.11/dist-packages (from liesel) (2.2.2)\n",
            "Requirement already satisfied: scipy>=1.8.0 in /usr/local/lib/python3.11/dist-packages (from liesel) (1.14.1)\n",
            "Requirement already satisfied: seaborn>=0.13 in /usr/local/lib/python3.11/dist-packages (from liesel) (0.13.2)\n",
            "Requirement already satisfied: tensorflow-probability>=0.17 in /usr/local/lib/python3.11/dist-packages (from liesel) (0.25.0)\n",
            "Requirement already satisfied: tqdm>=4.62 in /usr/local/lib/python3.11/dist-packages (from liesel) (4.67.1)\n",
            "Requirement already satisfied: optax>=0.1.7 in /usr/local/lib/python3.11/dist-packages (from liesel) (0.2.4)\n",
            "Requirement already satisfied: setuptools>=60.0.0 in /usr/local/lib/python3.11/dist-packages (from arviz>=0.15->liesel) (75.1.0)\n",
            "Requirement already satisfied: packaging in /usr/local/lib/python3.11/dist-packages (from arviz>=0.15->liesel) (24.2)\n",
            "Requirement already satisfied: xarray>=2022.6.0 in /usr/local/lib/python3.11/dist-packages (from arviz>=0.15->liesel) (2025.1.2)\n",
            "Requirement already satisfied: h5netcdf>=1.0.2 in /usr/local/lib/python3.11/dist-packages (from arviz>=0.15->liesel) (1.6.1)\n",
            "Requirement already satisfied: typing-extensions>=4.1.0 in /usr/local/lib/python3.11/dist-packages (from arviz>=0.15->liesel) (4.12.2)\n",
            "Requirement already satisfied: xarray-einstats>=0.3 in /usr/local/lib/python3.11/dist-packages (from arviz>=0.15->liesel) (0.8.0)\n",
            "Requirement already satisfied: fastprogress>=1.0.0 in /usr/local/lib/python3.11/dist-packages (from blackjax>=1.0->liesel) (1.0.3)\n",
            "Collecting jaxopt>=0.8 (from blackjax>=1.0->liesel)\n",
            "  Downloading jaxopt-0.8.3-py3-none-any.whl.metadata (2.6 kB)\n",
            "Requirement already satisfied: wrapt<2,>=1.10 in /usr/local/lib/python3.11/dist-packages (from deprecated>=1.2->liesel) (1.17.2)\n",
            "Requirement already satisfied: ml_dtypes>=0.4.0 in /usr/local/lib/python3.11/dist-packages (from jax>=0.5.0->liesel) (0.4.1)\n",
            "Requirement already satisfied: opt_einsum in /usr/local/lib/python3.11/dist-packages (from jax>=0.5.0->liesel) (3.4.0)\n",
            "Requirement already satisfied: contourpy>=1.0.1 in /usr/local/lib/python3.11/dist-packages (from matplotlib>=3.5->liesel) (1.3.1)\n",
            "Requirement already satisfied: cycler>=0.10 in /usr/local/lib/python3.11/dist-packages (from matplotlib>=3.5->liesel) (0.12.1)\n",
            "Requirement already satisfied: fonttools>=4.22.0 in /usr/local/lib/python3.11/dist-packages (from matplotlib>=3.5->liesel) (4.56.0)\n",
            "Requirement already satisfied: kiwisolver>=1.3.1 in /usr/local/lib/python3.11/dist-packages (from matplotlib>=3.5->liesel) (1.4.8)\n",
            "Requirement already satisfied: pillow>=8 in /usr/local/lib/python3.11/dist-packages (from matplotlib>=3.5->liesel) (11.1.0)\n",
            "Requirement already satisfied: pyparsing>=2.3.1 in /usr/local/lib/python3.11/dist-packages (from matplotlib>=3.5->liesel) (3.2.1)\n",
            "Requirement already satisfied: python-dateutil>=2.7 in /usr/local/lib/python3.11/dist-packages (from matplotlib>=3.5->liesel) (2.8.2)\n",
            "Requirement already satisfied: absl-py>=0.7.1 in /usr/local/lib/python3.11/dist-packages (from optax>=0.1.7->liesel) (1.4.0)\n",
            "Requirement already satisfied: chex>=0.1.87 in /usr/local/lib/python3.11/dist-packages (from optax>=0.1.7->liesel) (0.1.89)\n",
            "Requirement already satisfied: etils[epy] in /usr/local/lib/python3.11/dist-packages (from optax>=0.1.7->liesel) (1.12.2)\n",
            "Requirement already satisfied: pytz>=2020.1 in /usr/local/lib/python3.11/dist-packages (from pandas>=1.4->liesel) (2025.1)\n",
            "Requirement already satisfied: tzdata>=2022.7 in /usr/local/lib/python3.11/dist-packages (from pandas>=1.4->liesel) (2025.1)\n",
            "Requirement already satisfied: six>=1.10.0 in /usr/local/lib/python3.11/dist-packages (from tensorflow-probability>=0.17->liesel) (1.17.0)\n",
            "Requirement already satisfied: decorator in /usr/local/lib/python3.11/dist-packages (from tensorflow-probability>=0.17->liesel) (4.4.2)\n",
            "Requirement already satisfied: cloudpickle>=1.3 in /usr/local/lib/python3.11/dist-packages (from tensorflow-probability>=0.17->liesel) (3.1.1)\n",
            "Requirement already satisfied: gast>=0.3.2 in /usr/local/lib/python3.11/dist-packages (from tensorflow-probability>=0.17->liesel) (0.6.0)\n",
            "Requirement already satisfied: dm-tree in /usr/local/lib/python3.11/dist-packages (from tensorflow-probability>=0.17->liesel) (0.1.9)\n",
            "Requirement already satisfied: toolz>=0.9.0 in /usr/local/lib/python3.11/dist-packages (from chex>=0.1.87->optax>=0.1.7->liesel) (0.12.1)\n",
            "Requirement already satisfied: h5py in /usr/local/lib/python3.11/dist-packages (from h5netcdf>=1.0.2->arviz>=0.15->liesel) (3.12.1)\n",
            "Requirement already satisfied: attrs>=18.2.0 in /usr/local/lib/python3.11/dist-packages (from dm-tree->tensorflow-probability>=0.17->liesel) (25.2.0)\n",
            "Downloading liesel-0.3.3-py3-none-any.whl (121 kB)\n",
            "\u001b[2K   \u001b[90m━━━━━━━━━━━━━━━━━━━━━━━━━━━━━━━━━━━━━━━━\u001b[0m \u001b[32m121.2/121.2 kB\u001b[0m \u001b[31m2.5 MB/s\u001b[0m eta \u001b[36m0:00:00\u001b[0m\n",
            "\u001b[?25hDownloading blackjax-1.2.5-py3-none-any.whl (4.6 MB)\n",
            "\u001b[2K   \u001b[90m━━━━━━━━━━━━━━━━━━━━━━━━━━━━━━━━━━━━━━━━\u001b[0m \u001b[32m4.6/4.6 MB\u001b[0m \u001b[31m33.9 MB/s\u001b[0m eta \u001b[36m0:00:00\u001b[0m\n",
            "\u001b[?25hDownloading dill-0.3.9-py3-none-any.whl (119 kB)\n",
            "\u001b[2K   \u001b[90m━━━━━━━━━━━━━━━━━━━━━━━━━━━━━━━━━━━━━━━━\u001b[0m \u001b[32m119.4/119.4 kB\u001b[0m \u001b[31m5.0 MB/s\u001b[0m eta \u001b[36m0:00:00\u001b[0m\n",
            "\u001b[?25hDownloading jaxopt-0.8.3-py3-none-any.whl (172 kB)\n",
            "\u001b[2K   \u001b[90m━━━━━━━━━━━━━━━━━━━━━━━━━━━━━━━━━━━━━━━━\u001b[0m \u001b[32m172.3/172.3 kB\u001b[0m \u001b[31m9.2 MB/s\u001b[0m eta \u001b[36m0:00:00\u001b[0m\n",
            "\u001b[?25hInstalling collected packages: dill, jaxopt, blackjax, liesel\n",
            "Successfully installed blackjax-1.2.5 dill-0.3.9 jaxopt-0.8.3 liesel-0.3.3\n"
          ]
        }
      ],
      "source": [
        "pip install liesel"
      ]
    },
    {
      "cell_type": "code",
      "source": [
        "# This cell installs the necessary packages.\n",
        "# Afterwards, you need to restart the sessions.\n",
        "!apt install libgraphviz-dev # necessary here for successful pygraphviz installation\n",
        "!pip install pygraphviz liesel # install pygraphviz (for plotting model graphs nicely) and liesel"
      ],
      "metadata": {
        "colab": {
          "base_uri": "https://localhost:8080/"
        },
        "id": "gEirIBhtAvC6",
        "outputId": "c991204e-7d7b-4240-faf6-7b7154509211"
      },
      "execution_count": null,
      "outputs": [
        {
          "output_type": "stream",
          "name": "stdout",
          "text": [
            "Reading package lists... Done\n",
            "Building dependency tree... Done\n",
            "Reading state information... Done\n",
            "The following additional packages will be installed:\n",
            "  libgail-common libgail18 libgtk2.0-0 libgtk2.0-bin libgtk2.0-common libgvc6-plugins-gtk\n",
            "  librsvg2-common libxdot4\n",
            "Suggested packages:\n",
            "  gvfs\n",
            "The following NEW packages will be installed:\n",
            "  libgail-common libgail18 libgraphviz-dev libgtk2.0-0 libgtk2.0-bin libgtk2.0-common\n",
            "  libgvc6-plugins-gtk librsvg2-common libxdot4\n",
            "0 upgraded, 9 newly installed, 0 to remove and 29 not upgraded.\n",
            "Need to get 2,434 kB of archives.\n",
            "After this operation, 7,681 kB of additional disk space will be used.\n",
            "Get:1 http://archive.ubuntu.com/ubuntu jammy-updates/main amd64 libgtk2.0-common all 2.24.33-2ubuntu2.1 [125 kB]\n",
            "Get:2 http://archive.ubuntu.com/ubuntu jammy-updates/main amd64 libgtk2.0-0 amd64 2.24.33-2ubuntu2.1 [2,038 kB]\n",
            "Get:3 http://archive.ubuntu.com/ubuntu jammy-updates/main amd64 libgail18 amd64 2.24.33-2ubuntu2.1 [15.9 kB]\n",
            "Get:4 http://archive.ubuntu.com/ubuntu jammy-updates/main amd64 libgail-common amd64 2.24.33-2ubuntu2.1 [132 kB]\n",
            "Get:5 http://archive.ubuntu.com/ubuntu jammy-updates/universe amd64 libxdot4 amd64 2.42.2-6ubuntu0.1 [16.4 kB]\n",
            "Get:6 http://archive.ubuntu.com/ubuntu jammy-updates/universe amd64 libgvc6-plugins-gtk amd64 2.42.2-6ubuntu0.1 [22.5 kB]\n",
            "Get:7 http://archive.ubuntu.com/ubuntu jammy-updates/universe amd64 libgraphviz-dev amd64 2.42.2-6ubuntu0.1 [58.5 kB]\n",
            "Get:8 http://archive.ubuntu.com/ubuntu jammy-updates/main amd64 libgtk2.0-bin amd64 2.24.33-2ubuntu2.1 [7,936 B]\n",
            "Get:9 http://archive.ubuntu.com/ubuntu jammy-updates/main amd64 librsvg2-common amd64 2.52.5+dfsg-3ubuntu0.2 [17.7 kB]\n",
            "Fetched 2,434 kB in 1s (1,745 kB/s)\n",
            "Selecting previously unselected package libgtk2.0-common.\n",
            "(Reading database ... 125044 files and directories currently installed.)\n",
            "Preparing to unpack .../0-libgtk2.0-common_2.24.33-2ubuntu2.1_all.deb ...\n",
            "Unpacking libgtk2.0-common (2.24.33-2ubuntu2.1) ...\n",
            "Selecting previously unselected package libgtk2.0-0:amd64.\n",
            "Preparing to unpack .../1-libgtk2.0-0_2.24.33-2ubuntu2.1_amd64.deb ...\n",
            "Unpacking libgtk2.0-0:amd64 (2.24.33-2ubuntu2.1) ...\n",
            "Selecting previously unselected package libgail18:amd64.\n",
            "Preparing to unpack .../2-libgail18_2.24.33-2ubuntu2.1_amd64.deb ...\n",
            "Unpacking libgail18:amd64 (2.24.33-2ubuntu2.1) ...\n",
            "Selecting previously unselected package libgail-common:amd64.\n",
            "Preparing to unpack .../3-libgail-common_2.24.33-2ubuntu2.1_amd64.deb ...\n",
            "Unpacking libgail-common:amd64 (2.24.33-2ubuntu2.1) ...\n",
            "Selecting previously unselected package libxdot4:amd64.\n",
            "Preparing to unpack .../4-libxdot4_2.42.2-6ubuntu0.1_amd64.deb ...\n",
            "Unpacking libxdot4:amd64 (2.42.2-6ubuntu0.1) ...\n",
            "Selecting previously unselected package libgvc6-plugins-gtk.\n",
            "Preparing to unpack .../5-libgvc6-plugins-gtk_2.42.2-6ubuntu0.1_amd64.deb ...\n",
            "Unpacking libgvc6-plugins-gtk (2.42.2-6ubuntu0.1) ...\n",
            "Selecting previously unselected package libgraphviz-dev:amd64.\n",
            "Preparing to unpack .../6-libgraphviz-dev_2.42.2-6ubuntu0.1_amd64.deb ...\n",
            "Unpacking libgraphviz-dev:amd64 (2.42.2-6ubuntu0.1) ...\n",
            "Selecting previously unselected package libgtk2.0-bin.\n",
            "Preparing to unpack .../7-libgtk2.0-bin_2.24.33-2ubuntu2.1_amd64.deb ...\n",
            "Unpacking libgtk2.0-bin (2.24.33-2ubuntu2.1) ...\n",
            "Selecting previously unselected package librsvg2-common:amd64.\n",
            "Preparing to unpack .../8-librsvg2-common_2.52.5+dfsg-3ubuntu0.2_amd64.deb ...\n",
            "Unpacking librsvg2-common:amd64 (2.52.5+dfsg-3ubuntu0.2) ...\n",
            "Setting up libxdot4:amd64 (2.42.2-6ubuntu0.1) ...\n",
            "Setting up librsvg2-common:amd64 (2.52.5+dfsg-3ubuntu0.2) ...\n",
            "Setting up libgtk2.0-common (2.24.33-2ubuntu2.1) ...\n",
            "Setting up libgtk2.0-0:amd64 (2.24.33-2ubuntu2.1) ...\n",
            "Setting up libgvc6-plugins-gtk (2.42.2-6ubuntu0.1) ...\n",
            "Setting up libgail18:amd64 (2.24.33-2ubuntu2.1) ...\n",
            "Setting up libgtk2.0-bin (2.24.33-2ubuntu2.1) ...\n",
            "Setting up libgail-common:amd64 (2.24.33-2ubuntu2.1) ...\n",
            "Setting up libgraphviz-dev:amd64 (2.42.2-6ubuntu0.1) ...\n",
            "Processing triggers for libc-bin (2.35-0ubuntu3.8) ...\n",
            "/sbin/ldconfig.real: /usr/local/lib/libtcm_debug.so.1 is not a symbolic link\n",
            "\n",
            "/sbin/ldconfig.real: /usr/local/lib/libtbbbind.so.3 is not a symbolic link\n",
            "\n",
            "/sbin/ldconfig.real: /usr/local/lib/libtbbmalloc_proxy.so.2 is not a symbolic link\n",
            "\n",
            "/sbin/ldconfig.real: /usr/local/lib/libtbb.so.12 is not a symbolic link\n",
            "\n",
            "/sbin/ldconfig.real: /usr/local/lib/libtbbmalloc.so.2 is not a symbolic link\n",
            "\n",
            "/sbin/ldconfig.real: /usr/local/lib/libhwloc.so.15 is not a symbolic link\n",
            "\n",
            "/sbin/ldconfig.real: /usr/local/lib/libtcm.so.1 is not a symbolic link\n",
            "\n",
            "/sbin/ldconfig.real: /usr/local/lib/libur_adapter_opencl.so.0 is not a symbolic link\n",
            "\n",
            "/sbin/ldconfig.real: /usr/local/lib/libur_loader.so.0 is not a symbolic link\n",
            "\n",
            "/sbin/ldconfig.real: /usr/local/lib/libtbbbind_2_0.so.3 is not a symbolic link\n",
            "\n",
            "/sbin/ldconfig.real: /usr/local/lib/libtbbbind_2_5.so.3 is not a symbolic link\n",
            "\n",
            "/sbin/ldconfig.real: /usr/local/lib/libumf.so.0 is not a symbolic link\n",
            "\n",
            "/sbin/ldconfig.real: /usr/local/lib/libur_adapter_level_zero.so.0 is not a symbolic link\n",
            "\n",
            "Processing triggers for man-db (2.10.2-1) ...\n",
            "Processing triggers for libgdk-pixbuf-2.0-0:amd64 (2.42.8+dfsg-1ubuntu0.3) ...\n",
            "Collecting pygraphviz\n",
            "  Downloading pygraphviz-1.14.tar.gz (106 kB)\n",
            "\u001b[2K     \u001b[90m━━━━━━━━━━━━━━━━━━━━━━━━━━━━━━━━━━━━━━━━\u001b[0m \u001b[32m106.0/106.0 kB\u001b[0m \u001b[31m2.2 MB/s\u001b[0m eta \u001b[36m0:00:00\u001b[0m\n",
            "\u001b[?25h  Installing build dependencies ... \u001b[?25l\u001b[?25hdone\n",
            "  Getting requirements to build wheel ... \u001b[?25l\u001b[?25hdone\n",
            "  Preparing metadata (pyproject.toml) ... \u001b[?25l\u001b[?25hdone\n",
            "Requirement already satisfied: liesel in /usr/local/lib/python3.11/dist-packages (0.3.3)\n",
            "Requirement already satisfied: arviz>=0.15 in /usr/local/lib/python3.11/dist-packages (from liesel) (0.20.0)\n",
            "Requirement already satisfied: blackjax>=1.0 in /usr/local/lib/python3.11/dist-packages (from liesel) (1.2.5)\n",
            "Requirement already satisfied: deprecated>=1.2 in /usr/local/lib/python3.11/dist-packages (from liesel) (1.2.18)\n",
            "Requirement already satisfied: dill>=0.3 in /usr/local/lib/python3.11/dist-packages (from liesel) (0.3.9)\n",
            "Requirement already satisfied: jax>=0.5.0 in /usr/local/lib/python3.11/dist-packages (from liesel) (0.5.2)\n",
            "Requirement already satisfied: jaxlib>=0.5.0 in /usr/local/lib/python3.11/dist-packages (from liesel) (0.5.1)\n",
            "Requirement already satisfied: matplotlib>=3.5 in /usr/local/lib/python3.11/dist-packages (from liesel) (3.10.0)\n",
            "Requirement already satisfied: networkx>=2.6 in /usr/local/lib/python3.11/dist-packages (from liesel) (3.4.2)\n",
            "Requirement already satisfied: numpy!=1.24.0,<2.0,>=1.22 in /usr/local/lib/python3.11/dist-packages (from liesel) (1.26.4)\n",
            "Requirement already satisfied: pandas>=1.4 in /usr/local/lib/python3.11/dist-packages (from liesel) (2.2.2)\n",
            "Requirement already satisfied: scipy>=1.8.0 in /usr/local/lib/python3.11/dist-packages (from liesel) (1.14.1)\n",
            "Requirement already satisfied: seaborn>=0.13 in /usr/local/lib/python3.11/dist-packages (from liesel) (0.13.2)\n",
            "Requirement already satisfied: tensorflow-probability>=0.17 in /usr/local/lib/python3.11/dist-packages (from liesel) (0.25.0)\n",
            "Requirement already satisfied: tqdm>=4.62 in /usr/local/lib/python3.11/dist-packages (from liesel) (4.67.1)\n",
            "Requirement already satisfied: optax>=0.1.7 in /usr/local/lib/python3.11/dist-packages (from liesel) (0.2.4)\n",
            "Requirement already satisfied: setuptools>=60.0.0 in /usr/local/lib/python3.11/dist-packages (from arviz>=0.15->liesel) (75.1.0)\n",
            "Requirement already satisfied: packaging in /usr/local/lib/python3.11/dist-packages (from arviz>=0.15->liesel) (24.2)\n",
            "Requirement already satisfied: xarray>=2022.6.0 in /usr/local/lib/python3.11/dist-packages (from arviz>=0.15->liesel) (2025.1.2)\n",
            "Requirement already satisfied: h5netcdf>=1.0.2 in /usr/local/lib/python3.11/dist-packages (from arviz>=0.15->liesel) (1.6.1)\n",
            "Requirement already satisfied: typing-extensions>=4.1.0 in /usr/local/lib/python3.11/dist-packages (from arviz>=0.15->liesel) (4.12.2)\n",
            "Requirement already satisfied: xarray-einstats>=0.3 in /usr/local/lib/python3.11/dist-packages (from arviz>=0.15->liesel) (0.8.0)\n",
            "Requirement already satisfied: fastprogress>=1.0.0 in /usr/local/lib/python3.11/dist-packages (from blackjax>=1.0->liesel) (1.0.3)\n",
            "Requirement already satisfied: jaxopt>=0.8 in /usr/local/lib/python3.11/dist-packages (from blackjax>=1.0->liesel) (0.8.3)\n",
            "Requirement already satisfied: wrapt<2,>=1.10 in /usr/local/lib/python3.11/dist-packages (from deprecated>=1.2->liesel) (1.17.2)\n",
            "Requirement already satisfied: ml_dtypes>=0.4.0 in /usr/local/lib/python3.11/dist-packages (from jax>=0.5.0->liesel) (0.4.1)\n",
            "Requirement already satisfied: opt_einsum in /usr/local/lib/python3.11/dist-packages (from jax>=0.5.0->liesel) (3.4.0)\n",
            "Requirement already satisfied: contourpy>=1.0.1 in /usr/local/lib/python3.11/dist-packages (from matplotlib>=3.5->liesel) (1.3.1)\n",
            "Requirement already satisfied: cycler>=0.10 in /usr/local/lib/python3.11/dist-packages (from matplotlib>=3.5->liesel) (0.12.1)\n",
            "Requirement already satisfied: fonttools>=4.22.0 in /usr/local/lib/python3.11/dist-packages (from matplotlib>=3.5->liesel) (4.56.0)\n",
            "Requirement already satisfied: kiwisolver>=1.3.1 in /usr/local/lib/python3.11/dist-packages (from matplotlib>=3.5->liesel) (1.4.8)\n",
            "Requirement already satisfied: pillow>=8 in /usr/local/lib/python3.11/dist-packages (from matplotlib>=3.5->liesel) (11.1.0)\n",
            "Requirement already satisfied: pyparsing>=2.3.1 in /usr/local/lib/python3.11/dist-packages (from matplotlib>=3.5->liesel) (3.2.1)\n",
            "Requirement already satisfied: python-dateutil>=2.7 in /usr/local/lib/python3.11/dist-packages (from matplotlib>=3.5->liesel) (2.8.2)\n",
            "Requirement already satisfied: absl-py>=0.7.1 in /usr/local/lib/python3.11/dist-packages (from optax>=0.1.7->liesel) (1.4.0)\n",
            "Requirement already satisfied: chex>=0.1.87 in /usr/local/lib/python3.11/dist-packages (from optax>=0.1.7->liesel) (0.1.89)\n",
            "Requirement already satisfied: etils[epy] in /usr/local/lib/python3.11/dist-packages (from optax>=0.1.7->liesel) (1.12.2)\n",
            "Requirement already satisfied: pytz>=2020.1 in /usr/local/lib/python3.11/dist-packages (from pandas>=1.4->liesel) (2025.1)\n",
            "Requirement already satisfied: tzdata>=2022.7 in /usr/local/lib/python3.11/dist-packages (from pandas>=1.4->liesel) (2025.1)\n",
            "Requirement already satisfied: six>=1.10.0 in /usr/local/lib/python3.11/dist-packages (from tensorflow-probability>=0.17->liesel) (1.17.0)\n",
            "Requirement already satisfied: decorator in /usr/local/lib/python3.11/dist-packages (from tensorflow-probability>=0.17->liesel) (4.4.2)\n",
            "Requirement already satisfied: cloudpickle>=1.3 in /usr/local/lib/python3.11/dist-packages (from tensorflow-probability>=0.17->liesel) (3.1.1)\n",
            "Requirement already satisfied: gast>=0.3.2 in /usr/local/lib/python3.11/dist-packages (from tensorflow-probability>=0.17->liesel) (0.6.0)\n",
            "Requirement already satisfied: dm-tree in /usr/local/lib/python3.11/dist-packages (from tensorflow-probability>=0.17->liesel) (0.1.9)\n",
            "Requirement already satisfied: toolz>=0.9.0 in /usr/local/lib/python3.11/dist-packages (from chex>=0.1.87->optax>=0.1.7->liesel) (0.12.1)\n",
            "Requirement already satisfied: h5py in /usr/local/lib/python3.11/dist-packages (from h5netcdf>=1.0.2->arviz>=0.15->liesel) (3.12.1)\n",
            "Requirement already satisfied: attrs>=18.2.0 in /usr/local/lib/python3.11/dist-packages (from dm-tree->tensorflow-probability>=0.17->liesel) (25.2.0)\n",
            "Building wheels for collected packages: pygraphviz\n",
            "  Building wheel for pygraphviz (pyproject.toml) ... \u001b[?25l\u001b[?25hdone\n",
            "  Created wheel for pygraphviz: filename=pygraphviz-1.14-cp311-cp311-linux_x86_64.whl size=169681 sha256=5f3d06f7778f28d457408ffc17b12b7c5980d489eaaec955278c2d45d9734aa1\n",
            "  Stored in directory: /root/.cache/pip/wheels/9c/5f/df/6fffd2a4353f26dbb0e3672a1baf070c124a1d74a5f9318279\n",
            "Successfully built pygraphviz\n",
            "Installing collected packages: pygraphviz\n",
            "Successfully installed pygraphviz-1.14\n"
          ]
        }
      ]
    },
    {
      "cell_type": "code",
      "source": [
        "import jax\n",
        "import jax.numpy as jnp\n",
        "import liesel.model as lsl\n",
        "import liesel.goose as gs\n",
        "import liesel.contrib.splines as splines\n",
        "import tensorflow_probability.substrates.jax as tfp\n",
        "tfd = tfp.distributions\n",
        "tfb = tfp.bijectors\n",
        "import numpy as np\n",
        "import numpy as np\n",
        "import plotnine as p9\n",
        "import pandas as pd\n",
        "\n",
        "import matplotlib.pyplot as plt\n",
        "import seaborn as sns\n",
        "\n",
        "import numpy as np\n",
        "import pandas as pd\n",
        "import plotnine as p9"
      ],
      "metadata": {
        "id": "XrfH_234AuHx"
      },
      "execution_count": null,
      "outputs": []
    },
    {
      "cell_type": "code",
      "source": [
        "from liesel.contrib.splines import equidistant_knots, basis_matrix\n",
        "import tensorflow_probability.substrates.jax.bijectors as tfb\n",
        "from liesel.distributions.mvn_degen import MultivariateNormalDegenerate"
      ],
      "metadata": {
        "id": "osdRon7ODNLf"
      },
      "execution_count": null,
      "outputs": []
    },
    {
      "cell_type": "code",
      "source": [
        "def generate_gaussian_data(n, M=3, c_u=0.0, seed=None):\n",
        "    \"\"\"\n",
        "    Generate synthetic Gaussian-distributed data with replicates and a response variable.\n",
        "\n",
        "    Args:\n",
        "        n (int): The number of samples.\n",
        "        M (int, optional): The number of replicates per sample. Default is 3.\n",
        "        c_u (float, optional): The covariance factor between replicates. Default is 0.0.\n",
        "        seed (int, optional): Random seed for reproducibility. Default is None.\n",
        "\n",
        "    Returns:\n",
        "        tuple: (y, x, replicates, sigma_matrices) as JAX arrays.\n",
        "    \"\"\"\n",
        "\n",
        "    # Set random seed for reproducibility\n",
        "    if seed is not None:\n",
        "        np.random.seed(seed)\n",
        "\n",
        "    # Sample values for true covariate\n",
        "    x = np.random.normal(loc=10, scale=5, size=n)\n",
        "\n",
        "    # Generate covariance matrices\n",
        "    def create_sigma_me(dim_sigma_me, c_u):\n",
        "        Sigma_me = np.zeros((dim_sigma_me, dim_sigma_me))\n",
        "        for i in range(dim_sigma_me):\n",
        "            for j in range(dim_sigma_me):\n",
        "                if i == j:\n",
        "                    Sigma_me[i, j] = 1\n",
        "                else:\n",
        "                    Sigma_me[i, j] = c_u\n",
        "        return Sigma_me\n",
        "\n",
        "    # Scale the Sigma_me matrices by individual variance factor\n",
        "    sigma_matrices = []\n",
        "    for i in range(n):\n",
        "        sigma_sq_ui = 1 if i < n // 2 else 2  # First half scaled by 1, second half by 2\n",
        "        Sigma_me = create_sigma_me(M, c_u)\n",
        "        scaled_matrix = sigma_sq_ui * Sigma_me\n",
        "        sigma_matrices.append(scaled_matrix)\n",
        "\n",
        "    sigma_matrices_array = jnp.array(np.stack(sigma_matrices))\n",
        "\n",
        "    # Create M replicates of true variable x\n",
        "    replicates = []\n",
        "    for i in range(n):\n",
        "        mean_vector = np.repeat(x[i], M)\n",
        "        Sigma_me = sigma_matrices[i]\n",
        "        samples = np.random.multivariate_normal(mean_vector, Sigma_me)\n",
        "        replicates.append(samples)\n",
        "\n",
        "    # Generate response variable y\n",
        "    variances = np.random.choice([0.3, 0.5], size=n)\n",
        "    y = np.random.normal(loc=np.sin(x), scale=np.sqrt(variances))\n",
        "\n",
        "    # Convert to JAX arrays before returning\n",
        "    x = jnp.array(x)\n",
        "    replicates = jnp.array(np.array(replicates))\n",
        "    y = jnp.array(y)\n",
        "    sigma_matrices = jnp.array(np.stack(sigma_matrices))\n",
        "\n",
        "    return y, x, replicates, sigma_matrices\n"
      ],
      "metadata": {
        "id": "BIjFHB5laNl9"
      },
      "execution_count": null,
      "outputs": []
    },
    {
      "cell_type": "code",
      "source": [
        "# Define the number of samples and replicates\n",
        "n = 500  # Number of data points\n",
        "M = 3    # Number of replicates per sample\n",
        "\n",
        "# Generate synthetic Gaussian data\n",
        "y, x, x_tilde, sigma_matrices = generate_gaussian_data(n = n, M = M, c_u=0.25, seed=42)\n",
        "\n",
        "# Print the shapes of the generated data\n",
        "print(f\"Shape of sigma_matrices_array: {sigma_matrices.shape}\")\n",
        "print(f\"Shape of x: {x.shape}\")\n",
        "print(f\"Shape of replicates: {x_tilde.shape}\")\n",
        "print(f\"Shape of response: {y.shape}\")"
      ],
      "metadata": {
        "colab": {
          "base_uri": "https://localhost:8080/"
        },
        "id": "QDn1lKXUB5Nq",
        "outputId": "46be1ce3-c444-45cd-e59c-a1d3b40f4575"
      },
      "execution_count": null,
      "outputs": [
        {
          "output_type": "stream",
          "name": "stdout",
          "text": [
            "Shape of sigma_matrices_array: (500, 3, 3)\n",
            "Shape of x: (500,)\n",
            "Shape of replicates: (500, 3)\n",
            "Shape of response: (500,)\n"
          ]
        }
      ]
    },
    {
      "cell_type": "code",
      "source": [
        "# Look a covariance structure of replicates\n",
        "sigma_matrices[0]"
      ],
      "metadata": {
        "colab": {
          "base_uri": "https://localhost:8080/"
        },
        "id": "9Va2Mh-1mbXZ",
        "outputId": "1b194a8d-ec39-4b7a-bd83-c15cb9dc3808"
      },
      "execution_count": null,
      "outputs": [
        {
          "output_type": "execute_result",
          "data": {
            "text/plain": [
              "Array([[1.  , 0.25, 0.25],\n",
              "       [0.25, 1.  , 0.25],\n",
              "       [0.25, 0.25, 1.  ]], dtype=float32)"
            ]
          },
          "metadata": {},
          "execution_count": 7
        }
      ]
    },
    {
      "cell_type": "code",
      "source": [
        "# Define Number of knots/spline parameters to use\n",
        "n_param_splines = 20"
      ],
      "metadata": {
        "id": "fgKdtlny-jNu"
      },
      "execution_count": null,
      "outputs": []
    },
    {
      "cell_type": "code",
      "source": [
        "# Define hyperparameters for variance of x\n",
        "a_x = lsl.Var.new_param(0.001, name = \"a_x\")\n",
        "b_x = lsl.Var.new_param(0.001, name = \"b_x\")\n",
        "\n",
        "# Define prior for tau2_x using an Inverse Gamma distribution\n",
        "tau2_x_prior = lsl.Dist(tfd.InverseGamma, concentration = a_x, scale = b_x)\n",
        "tau2_x = lsl.Var.new_param(10.0, distribution = tau2_x_prior, name = \"tau2_x\")\n",
        "# tau2_x.transform(bijector=tfb.Exp())\n",
        "\n",
        "# Define hyperparameters for mu_x (mean of x)\n",
        "location_mu_x_prior = lsl.Var.new_param(0.0, name = \"location_mu_x_prior\")\n",
        "scale_mu_x_prior = lsl.Var.new_param(1000.0, name= \"scale_mu_x_prior\")\n",
        "#scale_mu_x_prior.transform(bijector = tfb.Exp())\n",
        "\n",
        "# Define prior for mu_x using a Normal distribution\n",
        "mu_x_prior = lsl.Dist(tfd.Normal, loc = location_mu_x_prior, scale = scale_mu_x_prior)\n",
        "\n",
        "# Define mu_x as a parameter with the prior distribution\n",
        "mu_x= lsl.Var.new_param(0.0, distribution = mu_x_prior, name = \"mu_x\")\n",
        "\n",
        "# Define prior distribution for x\n",
        "x_prior_dist = lsl.Dist(tfd.Normal, loc = mu_x, scale = tau2_x)\n",
        "\n",
        "# Estimate x using the mean of replicates and assign a prior distribution\n",
        "x_estimated = lsl.Var.new_param(jnp.expand_dims(x_tilde.mean(axis=1), -1), # initial estimation is the mean of the replicates\n",
        "                                distribution = x_prior_dist,\n",
        "                                name=\"x_estimated\")\n",
        "# Create Distribution for measuremnt errors\n",
        "measurement_dist = lsl.Dist(\n",
        "    tfd.MultivariateNormalFullCovariance,\n",
        "    loc=x_estimated,\n",
        "    covariance_matrix=sigma_matrices,\n",
        ")\n",
        "\n",
        "# Define x_tilde (observed replicates) as observed data in the probabilistic model\n",
        "x_tilde_var = lsl.Var.new_obs(\n",
        "    value = x_tilde,\n",
        "    distribution=measurement_dist,\n",
        "    name=\"x_tilde\"\n",
        ")"
      ],
      "metadata": {
        "id": "nvKo3EnkC5yP"
      },
      "execution_count": null,
      "outputs": []
    },
    {
      "cell_type": "code",
      "source": [
        "# Generate equidistant knots for spline basis functions based on the mean of replicates (x_tilde)\n",
        "knots = equidistant_knots(jnp.expand_dims(x_tilde.mean(axis=1), -1), n_param=n_param_splines, order=3)\n",
        "\n",
        "# Compute spline basis matrix for modeling the mean function\n",
        "basis_matrix_var_mu = lsl.Var.new_calc(\n",
        "    lambda x: splines.basis_matrix(\n",
        "        x.squeeze(),\n",
        "        knots=knots,    # Use precomputed knots\n",
        "        order=3,        # Cubic spline basis\n",
        "        outer_ok=True),\n",
        "    x = x_estimated,\n",
        "    name=\"basis_matrix_mu\"\n",
        ")\n",
        "\n",
        "# Compute spline basis matrix for modeling the scale\n",
        "basis_matrix_var_scale = lsl.Var.new_calc(\n",
        "    lambda x: splines.basis_matrix(\n",
        "        x.squeeze(),\n",
        "        knots=knots,\n",
        "        order=3,\n",
        "        outer_ok=True),\n",
        "    x = x_estimated,\n",
        "    name=\"basis_matrix_scale\"\n",
        ")\n",
        "\n",
        "# Define intercept parameters for the mean and scale functions in the spline model\n",
        "b0_mu = lsl.Var.new_param(0.0, name=\"b0_mu\")\n",
        "b0_scale = lsl.Var.new_param(0.0, name=\"b0_scale\")"
      ],
      "metadata": {
        "id": "k8JHiSjLG20u"
      },
      "execution_count": null,
      "outputs": []
    },
    {
      "cell_type": "code",
      "source": [
        "# Define hyperparameters for the variance of the mean function\n",
        "a_var_mu = lsl.Var.new_param(0.001, name = \"a_mu\")\n",
        "b_var_mu = lsl.Var.new_param(0.001, name = \"b_mu\")\n",
        "\n",
        "# Define hyperparameters for the variance of the scale function\n",
        "a_var_scale = lsl.Var.new_param(0.001, name = \"a_scale\")\n",
        "b_var_scale = lsl.Var.new_param(0.001, name = \"b_scale\")\n",
        "\n",
        "# Define prior tau2_mu distributions using Inverse Gamma\n",
        "prior_tau2_mu = lsl.Dist(tfd.InverseGamma, concentration=a_var_mu, scale=b_var_mu)\n",
        "tau2_mu = lsl.param(10.0, distribution = prior_tau2_mu, name= \"tau2_mu\")\n",
        "#tau2_mu.transform(bijector=tfb.Exp())\n",
        "\n",
        "# Define prior tau2_scale distributions using Inverse Gamma\n",
        "prior_tau2_scale = lsl.Dist(tfd.InverseGamma, concentration = a_var_scale, scale = b_var_scale)\n",
        "tau2_scale = lsl.param(10.0, distribution = prior_tau2_scale, name= \"tau_scale\")\n",
        "#tau2_scale.transform(bijector=tfb.Exp())"
      ],
      "metadata": {
        "id": "7KK-h8zMMWB0",
        "colab": {
          "base_uri": "https://localhost:8080/"
        },
        "outputId": "73eaf388-3c84-43d3-dbd4-dbe1b4edabe4"
      },
      "execution_count": null,
      "outputs": [
        {
          "output_type": "stream",
          "name": "stderr",
          "text": [
            "/usr/local/lib/python3.11/dist-packages/liesel/model/nodes.py:2535: FutureWarning: Use lsl.Var.new_param() instead. This function will be removed in v0.4.0\n"
          ]
        }
      ]
    },
    {
      "cell_type": "code",
      "source": [
        "# Compute P-spline penalty matrix (2nd-order difference for smoothness)\n",
        "penalty = splines.pspline_penalty(d=n_param_splines,diff=2)\n",
        "\n",
        "# Define penalty matrices for scale and mean functions\n",
        "penalty_scale = lsl.Var.new_param(penalty, name= \"penalty_scale\")\n",
        "penalty_mu = lsl.Var.new_param(penalty, name= \"penalty_mu\")\n",
        "\n",
        "# Compute eigenvalues of the penalty matrix\n",
        "evals = jax.numpy.linalg.eigvalsh(penalty)\n",
        "\n",
        "# Compute rank of the penalty matrix (number of positive eigenvalues)\n",
        "rank_scale = lsl.Value(jnp.sum(evals > 0.0), _name= \"rank_scale\")\n",
        "rank_mu = lsl.Value(jnp.sum(evals > 0.0), _name= \"rank_mu\")\n",
        "\n",
        "# Compute log determinant of the penalty matrix (ignoring zero eigenvalues)\n",
        "log_pdet = jnp.log(jnp.where(evals > 0.0, evals, 1.0)).sum()\n",
        "log_pdet_mu = lsl.Value(log_pdet, _name= \"log_pdet_mu\")\n",
        "log_pdet_scale = lsl.Value(log_pdet, _name= \"log_pdet_scale\")\n",
        "\n",
        "# Define prior distribution for spline coefficients (scale function)\n",
        "prior_coef_scale  = lsl.Dist(\n",
        "    MultivariateNormalDegenerate.from_penalty,\n",
        "    loc= jnp.zeros(shape=(n_param_splines,)),\n",
        "    var= tau2_scale,\n",
        "    pen= penalty_scale,\n",
        "    rank = rank_scale,\n",
        "    log_pdet=log_pdet_scale\n",
        "    )\n",
        "\n",
        "# Initialize spline coefficients for scale function\n",
        "start_value_scale = np.zeros(np.shape(penalty)[-1], np.float32)\n",
        "coef_scale = lsl.param(start_value_scale, distribution= prior_coef_scale, name= \"coef_scale\")\n",
        "\n",
        "# Define prior distribution for spline coefficients (mean function)\n",
        "prior_coef_mu  = lsl.Dist(\n",
        "    MultivariateNormalDegenerate.from_penalty,\n",
        "    loc= jnp.zeros(shape=(n_param_splines,)),\n",
        "    var=tau2_mu,\n",
        "    pen= penalty_mu,\n",
        "    rank = rank_mu,\n",
        "    log_pdet=log_pdet_mu\n",
        "    )\n",
        "\n",
        "# Initialize spline coefficients for mean function\n",
        "start_value_mu = np.zeros(np.shape(penalty)[-1], np.float32)\n",
        "coef_mu = lsl.param(start_value_mu, distribution= prior_coef_mu, name= \"coef_mu\")"
      ],
      "metadata": {
        "id": "EkCNkQldJcr8"
      },
      "execution_count": null,
      "outputs": []
    },
    {
      "cell_type": "code",
      "source": [
        "# Predictive function for the spline model\n",
        "# Computes the linear predictor: intercept + basis function expansion\n",
        "def pred_fn(beta0, spline_coef, basis_matrix):\n",
        "    return beta0 + jnp.dot(basis_matrix, spline_coef)"
      ],
      "metadata": {
        "id": "bzb4lmus3ATv"
      },
      "execution_count": null,
      "outputs": []
    },
    {
      "cell_type": "code",
      "source": [
        "# Define prior hyperparameters for sigma2 (variance)\n",
        "a_var = lsl.Var.new_value(0.01, name=\"a\")\n",
        "b_var = lsl.Var.new_value(0.01, name=\"b\")\n",
        "\n",
        "# Define Inverse Gamma prior for sigma²\n",
        "sigma2_prior = lsl.Dist(tfd.InverseGamma, concentration=a_var, scale=b_var)\n",
        "\n",
        "# Define sigma2 as a model parameter with the specified prior\n",
        "sigma2_var = lsl.Var.new_param(1.0, sigma2_prior, name=\"sigma2\")\n",
        "\n",
        "# Compute sigma (standard deviation) as the square root of sigma2\n",
        "sigma_var = lsl.Var.new_calc(jnp.sqrt, sigma2_var, name=\"sigma\")\n",
        "\n",
        "# Ensure sigma2 remains positive by applying an exponential transformation\n",
        "sigma2_var.transform(bijector = tfb.Exp())"
      ],
      "metadata": {
        "colab": {
          "base_uri": "https://localhost:8080/"
        },
        "id": "deddeEw44_0R",
        "outputId": "699afb12-b98f-41f9-d921-9a7ca8a52534"
      },
      "execution_count": null,
      "outputs": [
        {
          "output_type": "execute_result",
          "data": {
            "text/plain": [
              "Var(name=\"sigma2_transformed\")"
            ]
          },
          "metadata": {},
          "execution_count": 14
        }
      ]
    },
    {
      "cell_type": "code",
      "source": [
        "# Compute the scale (standard deviation) of y using the spline model\n",
        "scale_of_y = lsl.Var.new_calc(\n",
        "    pred_fn,\n",
        "    beta0=b0_scale,                       # Intercept for scale function\n",
        "    spline_coef=coef_scale,               # Spline coefficients for scale\n",
        "    basis_matrix=basis_matrix_var_scale,  # Basis matrix for scale\n",
        "    name=\"scale_of_y\"\n",
        ")\n",
        "\n",
        "# Transform scale_of_y to ensure positivity (exponential transformation)\n",
        "scale_of_y_transformed = lsl.Var.new_calc(jnp.exp, scale_of_y, name = \"scale_of_y_transformed\")\n",
        "#scale_of_y_transformed.transform(bijector = tfb.Exp())\n",
        "\n",
        "# Compute the mean (mu) of y using the spline model\n",
        "mu_of_y = lsl.Var.new_calc(\n",
        "    pred_fn,\n",
        "    beta0= b0_mu,\n",
        "    spline_coef = coef_mu,\n",
        "    basis_matrix = basis_matrix_var_mu,\n",
        "    name=\"mu_of_y\"\n",
        ")\n",
        "\n",
        "# Define the likelihood distribution of y (Normal with estimated mean and scale)\n",
        "y_dist = lsl.Dist(\n",
        "    tfd.Normal,\n",
        "    loc=mu_of_y,\n",
        "    scale= scale_of_y_transformed\n",
        "  )\n",
        "\n",
        "# Define y as an observed variable with the specified distribution\n",
        "y_var = lsl.Var.new_obs(\n",
        "    value=y,\n",
        "    distribution=y_dist,\n",
        "    name=\"y\"\n",
        ")"
      ],
      "metadata": {
        "id": "a5iaktMSGHqv"
      },
      "execution_count": null,
      "outputs": []
    },
    {
      "cell_type": "code",
      "source": [
        "# create joint model for x and y\n",
        "model = lsl.Model([y_var, x_tilde_var])"
      ],
      "metadata": {
        "id": "l7tUeNZNQHDN"
      },
      "execution_count": null,
      "outputs": []
    },
    {
      "cell_type": "code",
      "source": [
        "# Plot tree\n",
        "model.plot_vars()"
      ],
      "metadata": {
        "id": "cY_kqyXCV5a0",
        "colab": {
          "base_uri": "https://localhost:8080/",
          "height": 611
        },
        "outputId": "6bbd7074-4a35-44f5-de26-2113ac93e6ae"
      },
      "execution_count": null,
      "outputs": [
        {
          "output_type": "display_data",
          "data": {
            "text/plain": [
              "<Figure size 1400x1000 with 1 Axes>"
            ],
            "image/png": "[encoded data removed]"
          },
          "metadata": {}
        }
      ]
    },
    {
      "cell_type": "code",
      "source": [
        "def transition_tau_mu(prng_key, model_state):\n",
        "    \"\"\"\n",
        "    Sample tau2_mu from its posterior distribution using Gibbs sampling.\n",
        "\n",
        "    Args:\n",
        "        prng_key: The random number generator key for sampling.\n",
        "        model_state: A dictionary containing the model parameters and state.\n",
        "\n",
        "    Returns:\n",
        "        dict: A dictionary containing the sampled tau2_mu.\n",
        "    \"\"\"\n",
        "    # Extract relevant parameters from model state\n",
        "    pos = interface.extract_position(\n",
        "        position_keys=[\"a_mu\", \"b_mu\", \"rank_mu\", \"penalty_mu\", \"coef_mu\"],\n",
        "        model_state=model_state\n",
        "    )\n",
        "    # Extract values from position\n",
        "    a_prior = pos[\"a_mu\"]\n",
        "    b_prior = pos[\"b_mu\"]\n",
        "    rank = pos[\"rank_mu\"]\n",
        "    K = pos[\"penalty_mu\"]\n",
        "    beta = pos[\"coef_mu\"]\n",
        "\n",
        "    # Compute the Gibbs sampling parameters\n",
        "    a_gibbs = jnp.squeeze(a_prior + 0.5 * rank)\n",
        "    b_gibbs = jnp.squeeze(b_prior + 0.5 * (beta @ K @ beta))\n",
        "\n",
        "    # Draw a sample from the gamma distribution\n",
        "    draw = b_gibbs / jax.random.gamma(prng_key, a_gibbs)\n",
        "\n",
        "    return {\"tau2_mu\": draw}\n",
        "\n",
        "\n",
        "def transition_tau_scale(prng_key, model_state):\n",
        "    \"\"\"\n",
        "    Sample tau_scale from its posterior distribution using Gibbs sampling.\n",
        "\n",
        "    Args:\n",
        "        prng_key: The random number generator key for sampling.\n",
        "        model_state: A dictionary containing the model parameters and state.\n",
        "\n",
        "    Returns:\n",
        "        dict: A dictionary containing the sampled tau_scale.\n",
        "    \"\"\"\n",
        "    # Extract relevant parameters from model state\n",
        "    pos = interface.extract_position(\n",
        "        position_keys=[\"a_scale\", \"b_scale\", \"rank_scale\", \"penalty_scale\", \"coef_scale\"],\n",
        "        model_state=model_state\n",
        "    )\n",
        "    # Extract values from position\n",
        "    a_prior = pos[\"a_scale\"]\n",
        "    b_prior = pos[\"b_scale\"]\n",
        "    rank = pos[\"rank_scale\"]\n",
        "    K = pos[\"penalty_scale\"]\n",
        "    beta = pos[\"coef_scale\"]\n",
        "\n",
        "    # Compute the Gibbs sampling parameters\n",
        "    a_gibbs = jnp.squeeze(a_prior + 0.5 * rank)\n",
        "    b_gibbs = jnp.squeeze(b_prior + 0.5 * (beta @ K @ beta))\n",
        "\n",
        "    # Draw a sample from the gamma distribution\n",
        "    draw = b_gibbs / jax.random.gamma(prng_key, a_gibbs)\n",
        "\n",
        "    return {\"tau_scale\" : draw}\n",
        "\n",
        "def transition_mu_x(prng_key, model_state):\n",
        "    \"\"\"\n",
        "    Sample mu_x from its posterior distribution conditioned on the data.\n",
        "\n",
        "    Args:\n",
        "        prng_key: The random number generator key for sampling.\n",
        "        model_state: A dictionary containing the model parameters and state.\n",
        "\n",
        "    Returns:\n",
        "        dict: A dictionary containing the sampled mu_x.\n",
        "    \"\"\"\n",
        "    # Extract relevant parameters from model state\n",
        "    pos = interface.extract_position(\n",
        "        position_keys=[\"x_estimated\", \"tau2_mu\", \"tau2_x\", \"a_x\", \"b_x\"],\n",
        "        model_state=model_state\n",
        "    )\n",
        "    x = pos[\"x_estimated\"]\n",
        "    n = len(x)\n",
        "    tau2_mu = pos[\"tau2_mu\"]\n",
        "    tau2_x = pos[\"tau2_x\"]\n",
        "    a_x = pos[\"a_x\"]\n",
        "    b_x = pos[\"b_x\"]\n",
        "\n",
        "    # Compute the posterior mean and standard deviation for mu_x\n",
        "    normal_sample = jax.random.normal(prng_key, (1,))\n",
        "    mu_mean = (n * jnp.mean(x) * tau2_mu) / (n * tau2_mu + tau2_x)\n",
        "    mu_std = jnp.sqrt(tau2_x * tau2_mu / (n * tau2_mu + tau2_x))\n",
        "\n",
        "    # Sample mu_x from a normal distribution\n",
        "    mu_x = jnp.squeeze(mu_mean + mu_std * normal_sample)\n",
        "\n",
        "    return {\"mu_x\": mu_x}\n",
        "\n",
        "\n",
        "def transition_tau2_x(prng_key, model_state):\n",
        "    \"\"\"\n",
        "    Sample tau2_x from its posterior distribution using the inverse gamma distribution.\n",
        "\n",
        "    Args:\n",
        "        prng_key: The random number generator key for sampling.\n",
        "        model_state: A dictionary containing the model parameters and state.\n",
        "\n",
        "    Returns:\n",
        "        dict: A dictionary containing the sampled tau2_x.\n",
        "    \"\"\"\n",
        "    # Extract relevant parameters from model state\n",
        "    pos = interface.extract_position(\n",
        "        position_keys=[\"a_x\", \"b_x\", \"x_estimated\", \"mu_x\", \"b_x\"],\n",
        "        model_state=model_state\n",
        "    )\n",
        "    a_x = pos[\"a_x\"]\n",
        "    b_x = pos[\"b_x\"]\n",
        "    x = pos[\"x_estimated\"]\n",
        "    n = len(x)\n",
        "    mu_x = pos[\"mu_x\"]\n",
        "\n",
        "    # Compute the new alpha and beta for the inverse gamma distribution\n",
        "    alpha_new = a_x + n / 2\n",
        "    beta_new = b_x + ((x - mu_x)**2).sum() / 2\n",
        "\n",
        "    # Sample tau2_x from the inverse gamma distribution\n",
        "    tau2_x = jnp.squeeze(tfd.InverseGamma(concentration=alpha_new, scale=beta_new).sample(seed=prng_key))\n",
        "\n",
        "    return {\"tau2_x\" : tau2_x}\n",
        "\n",
        "\n",
        "def x_proposal(key, model_state, step_size):\n",
        "    \"\"\"\n",
        "    Propose a new value for x using a Metropolis-Hastings proposal distribution.\n",
        "\n",
        "    Args:\n",
        "        key: The random number generator key for sampling.\n",
        "        model_state: A dictionary containing the model parameters and state.\n",
        "        step_size: A scaling factor for the proposal distribution.\n",
        "\n",
        "    Returns:\n",
        "        gs.MHProposal: A Metropolis-Hastings proposal object containing the proposed x values and the log correction.\n",
        "    \"\"\"\n",
        "    # Extract current values of x_estimated and x_tilde from model state\n",
        "    pos = interface.extract_position(\n",
        "        position_keys=[\"x_estimated\", \"x_tilde\"],\n",
        "        model_state=model_state\n",
        "    )\n",
        "    x_current = pos[\"x_estimated\"].squeeze()  # Turn from (n, 1) into (n,)\n",
        "    n, m = pos[\"x_tilde\"].shape\n",
        "\n",
        "    # Initialize the step size scaling factor and covariance matrix\n",
        "    g = 1.0\n",
        "    M = m\n",
        "    eye_matrices = jnp.eye(m, dtype=jnp.float32)\n",
        "\n",
        "    # Create a stack of identity matrices and draw normal samples\n",
        "    sigma = jnp.stack([eye_matrices for _ in range(n)])  # (n, m, m)\n",
        "    normal_samples = jax.random.normal(key, (n,))  # (n,)\n",
        "\n",
        "    # Compute the scale factor for the proposal\n",
        "    trace_values = jnp.trace(sigma, axis1=1, axis2=2)  # (n,)\n",
        "    scale_factor = (g * trace_values / (M**2))  # (n,)\n",
        "\n",
        "    # Propose new x values\n",
        "    x_proposed = x_current + scale_factor * normal_samples * step_size  # (n,)\n",
        "    pos = {\"x_estimated\": jnp.expand_dims(x_proposed, -1)}  # Turn back into (n, 1)\n",
        "\n",
        "    return gs.MHProposal(pos, log_correction=0.0)"
      ],
      "metadata": {
        "id": "YNMUIXuxYzY7"
      },
      "execution_count": null,
      "outputs": []
    },
    {
      "cell_type": "code",
      "source": [
        "interface = gs.LieselInterface(model)"
      ],
      "metadata": {
        "id": "mpGRnjHBgMQJ"
      },
      "execution_count": null,
      "outputs": []
    },
    {
      "cell_type": "code",
      "source": [
        "# Initialize engine\n",
        "eb = gs.EngineBuilder(seed=1, num_chains=4)\n",
        "\n",
        "# Set the model and initial values\n",
        "eb.set_model(gs.LieselInterface(model))\n",
        "eb.set_initial_values(model.state)\n",
        "\n",
        "# Add sampling kernels\n",
        "eb.add_kernel(gs.IWLSKernel([\"coef_scale\"]))\n",
        "eb.add_kernel(gs.IWLSKernel([\"coef_mu\"]))\n",
        "eb.add_kernel(gs.RWKernel([\"x_estimated\"]))\n",
        "eb.add_kernel(gs.GibbsKernel([\"tau2_mu\"], transition_tau_mu))\n",
        "eb.add_kernel(gs.GibbsKernel([\"mu_x\"], transition_mu_x))\n",
        "eb.add_kernel(gs.GibbsKernel([\"tau_scale\"], transition_tau_scale))\n",
        "eb.add_kernel(gs.GibbsKernel([\"tau2_x\"], transition_tau2_x))\n",
        "\n",
        "# Alternative Metropolis-Hastings Kernel for x (commented due to proposal issues), needs fix\n",
        "# eb.add_kernel(gs.MHKernel([\"x_estimated\"], x_proposal))\n",
        "\n",
        "# Set MCMC durations: warmup, sampling, and thinning\n",
        "eb.set_duration(warmup_duration=1000, posterior_duration=5000, thinning_posterior=10)\n",
        "\n",
        "# Include mean and scale\n",
        "eb.positions_included = [\"mu_of_y\", \"scale_of_y_transformed\"]\n",
        "\n",
        "# Build the sampling engine\n",
        "engine = eb.build()\n"
      ],
      "metadata": {
        "colab": {
          "base_uri": "https://localhost:8080/"
        },
        "id": "qWPavMslZ-vJ",
        "outputId": "c1e7b644-aaa6-4fd8-c805-7150c1ff9c4d"
      },
      "execution_count": null,
      "outputs": [
        {
          "output_type": "stream",
          "name": "stderr",
          "text": [
            "liesel.goose.builder - WARNING - No jitter functions provided. The initial values won't be jittered\n",
            "liesel.goose.engine - INFO - Initializing kernels...\n",
            "liesel.goose.engine - INFO - Done\n"
          ]
        }
      ]
    },
    {
      "cell_type": "code",
      "source": [
        "engine.sample_all_epochs()"
      ],
      "metadata": {
        "colab": {
          "base_uri": "https://localhost:8080/"
        },
        "id": "R6tbUzLalIv6",
        "outputId": "9042cae2-d0f6-4058-83d2-9ca800f55c38"
      },
      "execution_count": null,
      "outputs": [
        {
          "output_type": "stream",
          "name": "stderr",
          "text": [
            "liesel.goose.engine - INFO - Starting epoch: FAST_ADAPTATION, 75 transitions, 25 jitted together\n",
            "100%|██████████████████████████████████████████| 3/3 [00:55<00:00, 18.39s/chunk]\n",
            "liesel.goose.engine - INFO - Finished epoch\n",
            "liesel.goose.engine - INFO - Starting epoch: SLOW_ADAPTATION, 25 transitions, 25 jitted together\n",
            "100%|█████████████████████████████████████████| 1/1 [00:00<00:00, 152.86chunk/s]\n",
            "liesel.goose.engine - INFO - Finished epoch\n",
            "liesel.goose.engine - INFO - Starting epoch: SLOW_ADAPTATION, 50 transitions, 25 jitted together\n",
            "100%|█████████████████████████████████████████| 2/2 [00:00<00:00, 181.87chunk/s]\n",
            "liesel.goose.engine - INFO - Finished epoch\n",
            "liesel.goose.engine - INFO - Starting epoch: SLOW_ADAPTATION, 100 transitions, 25 jitted together\n",
            "100%|█████████████████████████████████████████| 4/4 [00:00<00:00, 200.83chunk/s]\n",
            "liesel.goose.engine - WARNING - Errors per chain for kernel_00: 0, 0, 1, 0 / 100 transitions\n",
            "liesel.goose.engine - INFO - Finished epoch\n",
            "liesel.goose.engine - INFO - Starting epoch: SLOW_ADAPTATION, 200 transitions, 25 jitted together\n",
            "100%|██████████████████████████████████████████| 8/8 [00:00<00:00, 63.62chunk/s]\n",
            "liesel.goose.engine - INFO - Finished epoch\n",
            "liesel.goose.engine - INFO - Starting epoch: SLOW_ADAPTATION, 500 transitions, 25 jitted together\n",
            "100%|████████████████████████████████████████| 20/20 [00:01<00:00, 13.48chunk/s]\n",
            "liesel.goose.engine - WARNING - Errors per chain for kernel_00: 0, 0, 0, 1 / 500 transitions\n",
            "liesel.goose.engine - INFO - Finished epoch\n",
            "liesel.goose.engine - INFO - Starting epoch: FAST_ADAPTATION, 50 transitions, 25 jitted together\n",
            "100%|██████████████████████████████████████████| 2/2 [00:00<00:00, 75.65chunk/s]\n",
            "liesel.goose.engine - INFO - Finished epoch\n",
            "liesel.goose.engine - INFO - Finished warmup\n",
            "liesel.goose.engine - INFO - Starting epoch: POSTERIOR, 5000 transitions, 25 jitted together\n",
            "100%|██████████████████████████████████████| 200/200 [00:27<00:00,  7.25chunk/s]\n",
            "liesel.goose.engine - INFO - Finished epoch\n"
          ]
        }
      ]
    },
    {
      "cell_type": "code",
      "source": [
        "results = engine.get_results()\n",
        "summary = gs.Summary(results)"
      ],
      "metadata": {
        "id": "NLxKRy5nlMg6"
      },
      "execution_count": null,
      "outputs": []
    },
    {
      "cell_type": "code",
      "source": [
        "gs.Summary(results)"
      ],
      "metadata": {
        "id": "3S037hTslQeM"
      },
      "execution_count": null,
      "outputs": []
    },
    {
      "cell_type": "code",
      "source": [
        "# Plot the treace of all scale coefficients\n",
        "gs.plot_trace(results, \"coef_scale\")"
      ],
      "metadata": {
        "id": "QGiUK5BLCKDn"
      },
      "execution_count": null,
      "outputs": []
    },
    {
      "cell_type": "code",
      "source": [
        "# Plot the treace of all location coefficients\n",
        "gs.plot_trace(results, \"coef_mu\")"
      ],
      "metadata": {
        "id": "c29gYSYeLk2Y"
      },
      "execution_count": null,
      "outputs": []
    },
    {
      "cell_type": "code",
      "source": [
        "\n",
        "gs.plot_param(results, \"tau2_mu\")"
      ],
      "metadata": {
        "id": "CASUODNVL2lj"
      },
      "execution_count": null,
      "outputs": []
    },
    {
      "cell_type": "code",
      "source": [
        "gs.plot_param(results, \"mu_x\")"
      ],
      "metadata": {
        "id": "eTfK_alRNu0H"
      },
      "execution_count": null,
      "outputs": []
    },
    {
      "cell_type": "code",
      "source": [
        "gs.plot_param(results, \"tau_scale\")"
      ],
      "metadata": {
        "id": "JAt_76G5OBTC"
      },
      "execution_count": null,
      "outputs": []
    },
    {
      "cell_type": "code",
      "source": [
        "gs.plot_param(results, \"tau2_x\")"
      ],
      "metadata": {
        "id": "Va4kcZY4OH5m"
      },
      "execution_count": null,
      "outputs": []
    },
    {
      "cell_type": "code",
      "source": [
        "# Get estimates of x\n",
        "x_estimated_mean = summary.quantities[\"mean\"][\"x_estimated\"]"
      ],
      "metadata": {
        "id": "9xQBCvSAOjYv"
      },
      "execution_count": null,
      "outputs": []
    },
    {
      "cell_type": "code",
      "source": [
        "# Create the plot\n",
        "plt.figure(figsize=(8, 6))\n",
        "\n",
        "# Plot histogram for x_true\n",
        "sns.histplot(x, bins=25, kde=True, color='r', alpha=0.6, label=\"x_true\")\n",
        "\n",
        "# Plot histogram for x_estimated_mean\n",
        "sns.histplot(x_estimated_mean, bins=25, kde=True, color='b', alpha=0.6, label=\"x_estimated\")\n",
        "\n",
        "# Add title and labels\n",
        "plt.title(\"True x vs. Estimated x\")\n",
        "plt.xlabel(\"Value\")\n",
        "plt.ylabel(\"Density\")\n",
        "\n",
        "# Show legend\n",
        "plt.legend()\n",
        "\n",
        "# Show the plot\n",
        "plt.show()"
      ],
      "metadata": {
        "id": "-STBjwPDl8d3"
      },
      "execution_count": null,
      "outputs": []
    },
    {
      "cell_type": "code",
      "source": [
        "# Retrieve posterior samples\n",
        "samples = results.get_posterior_samples()\n",
        "\n",
        "# Compute mean posterior prediction\n",
        "mu_mean = samples[\"mu_of_y\"].mean(axis=(0, 1))\n",
        "\n",
        "# Compute mean and 95% credible interval for scale (uncertainty)\n",
        "sigma_mean = samples[\"scale_of_y_transformed\"].mean(axis=(0, 1))\n",
        "sigma_lo = jnp.quantile(samples[\"scale_of_y_transformed\"], 0.025, axis=(0, 1))\n",
        "sigma_hi = jnp.quantile(samples[\"scale_of_y_transformed\"], 0.975, axis=(0, 1))"
      ],
      "metadata": {
        "id": "_SYTCBGgGu5h"
      },
      "execution_count": null,
      "outputs": []
    },
    {
      "cell_type": "code",
      "source": [
        "# Get posterior samples for x\n",
        "x_posterior_samples = samples[\"x_estimated\"]\n",
        "\n",
        "# Compute posterior mean of x\n",
        "x_posterior_mean = x_posterior_samples.mean(axis=(0, 1)).squeeze()\n",
        "\n",
        "# Compute basis matrix at posterior mean of x\n",
        "basis_matrix_post_mean = basis_matrix_var_mu.value_node.function(x_posterior_mean)\n",
        "\n",
        "# Compute posterior mean of regression coefficients\n",
        "coef_mu_post = samples[\"coef_mu\"].mean(axis=(0, 1))\n",
        "\n",
        "# Compute posterior mean function estimate\n",
        "posterior_mean_function = basis_matrix_post_mean @ coef_mu_post"
      ],
      "metadata": {
        "id": "WgfJ0DTDXDxn"
      },
      "execution_count": null,
      "outputs": []
    },
    {
      "cell_type": "code",
      "source": [
        "coef_mu_post"
      ],
      "metadata": {
        "id": "eya5q9zKglUW"
      },
      "execution_count": null,
      "outputs": []
    },
    {
      "cell_type": "code",
      "source": [
        "# Define x input for plot functions\n",
        "input_var = x_posterior_mean"
      ],
      "metadata": {
        "id": "HCQ47rI3Xwkn"
      },
      "execution_count": null,
      "outputs": []
    },
    {
      "cell_type": "code",
      "source": [
        "(\n",
        "    p9.ggplot()\n",
        "    + p9.aes(input_var, y)\n",
        "    + p9.geom_point(alpha=0.2)\n",
        "    + p9.geom_line(p9.aes(input_var, posterior_mean_function), color=\"blue\", size=2)\n",
        "    + p9.geom_ribbon(p9.aes(input_var, ymin=mu_mean - sigma_mean, ymax=mu_mean + sigma_mean), fill=\"blue\", size=2, alpha=0.3)\n",
        "    + p9.labs(title=\"Posterior location and scale functions\")\n",
        ")"
      ],
      "metadata": {
        "id": "ZJSpdEwOJfqF"
      },
      "execution_count": null,
      "outputs": []
    },
    {
      "cell_type": "code",
      "source": [
        "# Define a smooth range for x using the min/max of your input array\n",
        "x_smooth = np.linspace(input_var.min(), input_var.max(), 300)\n",
        "sin_x = np.sin(x_smooth)\n",
        "\n",
        "# Create a new dataframe for sin(x)\n",
        "df_sin = pd.DataFrame({\"input_var\": x_smooth, \"sin_x\": sin_x})\n",
        "\n",
        "(\n",
        "    p9.ggplot()\n",
        "    + p9.aes(\"input_var\", \"y\")  # Keep aesthetics for consistency\n",
        "    + p9.geom_point(alpha=0.2)\n",
        "    + p9.geom_line(p9.aes(\"input_var\", \"posterior_mean_function\"), color=\"blue\", size=2)\n",
        "    + p9.geom_ribbon(\n",
        "        p9.aes(\"input_var\", ymin=\"mu_mean - sigma_mean\", ymax=\"mu_mean + sigma_mean\"),\n",
        "        fill=\"blue\",\n",
        "        size=2,\n",
        "        alpha=0.3,\n",
        "    )\n",
        "    + p9.geom_line(df_sin, p9.aes(\"input_var\", \"sin_x\"), color=\"red\", size=1, linetype=\"dashed\")  # sin(x) curve\n",
        "    + p9.labs(title=\"Posterior location and scale functions with sin(x)\")\n",
        ")"
      ],
      "metadata": {
        "id": "D0P9CgpSZGM5"
      },
      "execution_count": null,
      "outputs": []
    },
    {
      "cell_type": "code",
      "source": [
        "(\n",
        "    p9.ggplot()\n",
        "    + p9.geom_line(p9.aes(input_var, sigma_mean), color=\"red\", size=2)\n",
        "    + p9.geom_ribbon(p9.aes(input_var, ymin=sigma_lo, ymax=sigma_hi), fill=\"red\", size=2, alpha=0.3)\n",
        "    + p9.labs(title=\"Posterior uncertainty in the scale function\")\n",
        ")"
      ],
      "metadata": {
        "id": "6k1CNANAJyHw"
      },
      "execution_count": null,
      "outputs": []
    }
  ]
}